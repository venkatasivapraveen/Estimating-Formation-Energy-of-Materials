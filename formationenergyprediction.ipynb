{
 "cells": [
  {
   "cell_type": "markdown",
   "metadata": {
    "papermill": {
     "duration": 0.023335,
     "end_time": "2022-06-08T15:26:43.373352",
     "exception": false,
     "start_time": "2022-06-08T15:26:43.350017",
     "status": "completed"
    },
    "tags": []
   },
   "source": [
    "## Estimation of Formation Energy of Materials"
   ]
  },
  {
   "cell_type": "code",
   "execution_count": 1,
   "metadata": {
    "execution": {
     "iopub.execute_input": "2022-06-08T15:26:43.418523Z",
     "iopub.status.busy": "2022-06-08T15:26:43.417470Z",
     "iopub.status.idle": "2022-06-08T15:28:02.202608Z",
     "shell.execute_reply": "2022-06-08T15:28:02.201801Z",
     "shell.execute_reply.started": "2022-06-08T15:16:54.817945Z"
    },
    "papermill": {
     "duration": 78.808736,
     "end_time": "2022-06-08T15:28:02.202829",
     "exception": false,
     "start_time": "2022-06-08T15:26:43.394093",
     "status": "completed"
    },
    "tags": []
   },
   "outputs": [
    {
     "name": "stdout",
     "output_type": "stream",
     "text": [
      "Collecting pymatgen==2021.2.8\r\n",
      "  Downloading pymatgen-2021.2.8.tar.gz (3.0 MB)\r\n",
      "     |████████████████████████████████| 3.0 MB 286 kB/s            \r\n",
      "\u001b[?25h  Installing build dependencies ... \u001b[?25l-\b \b\\\b \b|\b \b/\b \b-\b \b\\\b \b|\b \bdone\r\n",
      "\u001b[?25h  Getting requirements to build wheel ... \u001b[?25l-\b \b\\\b \b|\b \b/\b \b-\b \bdone\r\n",
      "\u001b[?25h  Installing backend dependencies ... \u001b[?25l-\b \b\\\b \b|\b \bdone\r\n",
      "\u001b[?25h  Preparing metadata (pyproject.toml) ... \u001b[?25l-\b \b\\\b \b|\b \b/\b \b-\b \bdone\r\n",
      "\u001b[?25hRequirement already satisfied: matplotlib>=1.5 in /opt/conda/lib/python3.7/site-packages (from pymatgen==2021.2.8) (3.5.1)\r\n",
      "Requirement already satisfied: sympy in /opt/conda/lib/python3.7/site-packages (from pymatgen==2021.2.8) (1.9)\r\n",
      "Collecting ruamel.yaml>=0.15.6\r\n",
      "  Downloading ruamel.yaml-0.17.21-py3-none-any.whl (109 kB)\r\n",
      "     |████████████████████████████████| 109 kB 57.6 MB/s            \r\n",
      "\u001b[?25hRequirement already satisfied: numpy>=1.18.0 in /opt/conda/lib/python3.7/site-packages (from pymatgen==2021.2.8) (1.19.5)\r\n",
      "Requirement already satisfied: tabulate in /opt/conda/lib/python3.7/site-packages (from pymatgen==2021.2.8) (0.8.9)\r\n",
      "Requirement already satisfied: requests in /opt/conda/lib/python3.7/site-packages (from pymatgen==2021.2.8) (2.26.0)\r\n",
      "Requirement already satisfied: scipy>=1.5.0 in /opt/conda/lib/python3.7/site-packages (from pymatgen==2021.2.8) (1.7.3)\r\n",
      "Requirement already satisfied: palettable>=3.1.1 in /opt/conda/lib/python3.7/site-packages (from pymatgen==2021.2.8) (3.3.0)\r\n",
      "Collecting monty>=3.0.2\r\n",
      "  Downloading monty-2022.4.26-py3-none-any.whl (65 kB)\r\n",
      "     |████████████████████████████████| 65 kB 2.8 MB/s             \r\n",
      "\u001b[?25hRequirement already satisfied: pandas in /opt/conda/lib/python3.7/site-packages (from pymatgen==2021.2.8) (1.3.4)\r\n",
      "Requirement already satisfied: plotly>=4.5.0 in /opt/conda/lib/python3.7/site-packages (from pymatgen==2021.2.8) (5.5.0)\r\n",
      "Requirement already satisfied: typing-extensions>=3.7.4.3 in /opt/conda/lib/python3.7/site-packages (from pymatgen==2021.2.8) (3.10.0.2)\r\n",
      "Collecting spglib>=1.9.9.44\r\n",
      "  Downloading spglib-1.16.5-cp37-cp37m-manylinux_2_17_x86_64.manylinux2014_x86_64.whl (325 kB)\r\n",
      "     |████████████████████████████████| 325 kB 64.3 MB/s            \r\n",
      "\u001b[?25hRequirement already satisfied: networkx>=2.2 in /opt/conda/lib/python3.7/site-packages (from pymatgen==2021.2.8) (2.6.3)\r\n",
      "Collecting uncertainties>=3.1.4\r\n",
      "  Downloading uncertainties-3.1.6-py2.py3-none-any.whl (98 kB)\r\n",
      "     |████████████████████████████████| 98 kB 5.5 MB/s             \r\n",
      "\u001b[?25hRequirement already satisfied: fonttools>=4.22.0 in /opt/conda/lib/python3.7/site-packages (from matplotlib>=1.5->pymatgen==2021.2.8) (4.28.2)\r\n",
      "Requirement already satisfied: cycler>=0.10 in /opt/conda/lib/python3.7/site-packages (from matplotlib>=1.5->pymatgen==2021.2.8) (0.11.0)\r\n",
      "Requirement already satisfied: pillow>=6.2.0 in /opt/conda/lib/python3.7/site-packages (from matplotlib>=1.5->pymatgen==2021.2.8) (8.2.0)\r\n",
      "Requirement already satisfied: pyparsing>=2.2.1 in /opt/conda/lib/python3.7/site-packages (from matplotlib>=1.5->pymatgen==2021.2.8) (3.0.6)\r\n",
      "Requirement already satisfied: python-dateutil>=2.7 in /opt/conda/lib/python3.7/site-packages (from matplotlib>=1.5->pymatgen==2021.2.8) (2.8.0)\r\n",
      "Requirement already satisfied: packaging>=20.0 in /opt/conda/lib/python3.7/site-packages (from matplotlib>=1.5->pymatgen==2021.2.8) (21.3)\r\n",
      "Requirement already satisfied: kiwisolver>=1.0.1 in /opt/conda/lib/python3.7/site-packages (from matplotlib>=1.5->pymatgen==2021.2.8) (1.3.2)\r\n",
      "Requirement already satisfied: six in /opt/conda/lib/python3.7/site-packages (from plotly>=4.5.0->pymatgen==2021.2.8) (1.16.0)\r\n",
      "Requirement already satisfied: tenacity>=6.2.0 in /opt/conda/lib/python3.7/site-packages (from plotly>=4.5.0->pymatgen==2021.2.8) (8.0.1)\r\n",
      "Collecting ruamel.yaml.clib>=0.2.6\r\n",
      "  Downloading ruamel.yaml.clib-0.2.6-cp37-cp37m-manylinux1_x86_64.whl (546 kB)\r\n",
      "     |████████████████████████████████| 546 kB 64.9 MB/s            \r\n",
      "\u001b[?25hRequirement already satisfied: future in /opt/conda/lib/python3.7/site-packages (from uncertainties>=3.1.4->pymatgen==2021.2.8) (0.18.2)\r\n",
      "Requirement already satisfied: pytz>=2017.3 in /opt/conda/lib/python3.7/site-packages (from pandas->pymatgen==2021.2.8) (2021.3)\r\n",
      "Requirement already satisfied: urllib3<1.27,>=1.21.1 in /opt/conda/lib/python3.7/site-packages (from requests->pymatgen==2021.2.8) (1.26.7)\r\n",
      "Requirement already satisfied: idna<4,>=2.5 in /opt/conda/lib/python3.7/site-packages (from requests->pymatgen==2021.2.8) (3.1)\r\n",
      "Requirement already satisfied: charset-normalizer~=2.0.0 in /opt/conda/lib/python3.7/site-packages (from requests->pymatgen==2021.2.8) (2.0.8)\r\n",
      "Requirement already satisfied: certifi>=2017.4.17 in /opt/conda/lib/python3.7/site-packages (from requests->pymatgen==2021.2.8) (2021.10.8)\r\n",
      "Requirement already satisfied: mpmath>=0.19 in /opt/conda/lib/python3.7/site-packages (from sympy->pymatgen==2021.2.8) (1.2.1)\r\n",
      "Building wheels for collected packages: pymatgen\r\n",
      "  Building wheel for pymatgen (pyproject.toml) ... \u001b[?25l-\b \b\\\b \b|\b \b/\b \b-\b \b\\\b \b|\b \b/\b \b-\b \b\\\b \b|\b \b/\b \b-\b \b\\\b \b|\b \b/\b \b-\b \b\\\b \b|\b \b/\b \b-\b \b\\\b \b|\b \b/\b \b-\b \b\\\b \bdone\r\n",
      "\u001b[?25h  Created wheel for pymatgen: filename=pymatgen-2021.2.8-cp37-cp37m-linux_x86_64.whl size=4193660 sha256=65aa6e3e32e22d7c727d6a201feaf3d563a202b36df741c25a0e4b24d07340b0\r\n",
      "  Stored in directory: /root/.cache/pip/wheels/18/b8/b1/be858f690fff99b56dbf15f7ca3683d443996771550c9b3188\r\n",
      "Successfully built pymatgen\r\n",
      "Installing collected packages: ruamel.yaml.clib, uncertainties, spglib, ruamel.yaml, monty, pymatgen\r\n",
      "Successfully installed monty-2022.4.26 pymatgen-2021.2.8 ruamel.yaml-0.17.21 ruamel.yaml.clib-0.2.6 spglib-1.16.5 uncertainties-3.1.6\r\n",
      "\u001b[33mWARNING: Running pip as the 'root' user can result in broken permissions and conflicting behaviour with the system package manager. It is recommended to use a virtual environment instead: https://pip.pypa.io/warnings/venv\u001b[0m\r\n"
     ]
    }
   ],
   "source": [
    "!pip install pymatgen==2021.2.8"
   ]
  },
  {
   "cell_type": "code",
   "execution_count": 2,
   "metadata": {
    "_cell_guid": "b1076dfc-b9ad-4769-8c92-a6c4dae69d19",
    "_uuid": "8f2839f25d086af736a60e9eeb907d3b93b6e0e5",
    "execution": {
     "iopub.execute_input": "2022-06-08T15:28:02.298971Z",
     "iopub.status.busy": "2022-06-08T15:28:02.298241Z",
     "iopub.status.idle": "2022-06-08T15:28:04.055502Z",
     "shell.execute_reply": "2022-06-08T15:28:04.054768Z",
     "shell.execute_reply.started": "2022-06-08T15:18:17.719682Z"
    },
    "papermill": {
     "duration": 1.808799,
     "end_time": "2022-06-08T15:28:04.055672",
     "exception": false,
     "start_time": "2022-06-08T15:28:02.246873",
     "status": "completed"
    },
    "tags": []
   },
   "outputs": [],
   "source": [
    "#necessary imports\n",
    "import numpy as np\n",
    "import pandas as pd\n",
    "import matplotlib.pyplot as plt\n",
    "import seaborn as sns\n",
    "\n",
    "%matplotlib inline\n",
    "\n",
    "from pymatgen.core.periodic_table import Element\n",
    "from pymatgen import Composition\n",
    "from pymatgen import MPRester\n",
    "\n",
    "from sklearn.model_selection import train_test_split\n",
    "from sklearn.linear_model import LinearRegression, Ridge, Lasso, LogisticRegression\n",
    "from sklearn.discriminant_analysis import LinearDiscriminantAnalysis, QuadraticDiscriminantAnalysis\n",
    "from sklearn.metrics import mean_absolute_error,mean_squared_error,accuracy_score,confusion_matrix"
   ]
  },
  {
   "cell_type": "code",
   "execution_count": 3,
   "metadata": {
    "execution": {
     "iopub.execute_input": "2022-06-08T15:28:04.144544Z",
     "iopub.status.busy": "2022-06-08T15:28:04.143933Z",
     "iopub.status.idle": "2022-06-08T15:28:04.541384Z",
     "shell.execute_reply": "2022-06-08T15:28:04.540806Z",
     "shell.execute_reply.started": "2022-06-08T15:18:19.429366Z"
    },
    "papermill": {
     "duration": 0.444929,
     "end_time": "2022-06-08T15:28:04.541573",
     "exception": false,
     "start_time": "2022-06-08T15:28:04.096644",
     "status": "completed"
    },
    "tags": []
   },
   "outputs": [
    {
     "data": {
      "text/html": [
       "<div>\n",
       "<style scoped>\n",
       "    .dataframe tbody tr th:only-of-type {\n",
       "        vertical-align: middle;\n",
       "    }\n",
       "\n",
       "    .dataframe tbody tr th {\n",
       "        vertical-align: top;\n",
       "    }\n",
       "\n",
       "    .dataframe thead th {\n",
       "        text-align: right;\n",
       "    }\n",
       "</style>\n",
       "<table border=\"1\" class=\"dataframe\">\n",
       "  <thead>\n",
       "    <tr style=\"text-align: right;\">\n",
       "      <th></th>\n",
       "      <th>task_id</th>\n",
       "      <th>formula</th>\n",
       "      <th>formation_energy_per_atom</th>\n",
       "      <th>e_above_hull</th>\n",
       "      <th>band_gap</th>\n",
       "      <th>has_bandstructure</th>\n",
       "    </tr>\n",
       "  </thead>\n",
       "  <tbody>\n",
       "    <tr>\n",
       "      <th>0</th>\n",
       "      <td>mp-1007923</td>\n",
       "      <td>CrNi3</td>\n",
       "      <td>-0.016354</td>\n",
       "      <td>0.000802</td>\n",
       "      <td>0.0</td>\n",
       "      <td>False</td>\n",
       "    </tr>\n",
       "    <tr>\n",
       "      <th>1</th>\n",
       "      <td>mp-1008754</td>\n",
       "      <td>TbHg2</td>\n",
       "      <td>-0.069428</td>\n",
       "      <td>0.329909</td>\n",
       "      <td>0.0</td>\n",
       "      <td>True</td>\n",
       "    </tr>\n",
       "    <tr>\n",
       "      <th>2</th>\n",
       "      <td>mp-1016886</td>\n",
       "      <td>MgVO3</td>\n",
       "      <td>-2.241438</td>\n",
       "      <td>0.545977</td>\n",
       "      <td>0.0</td>\n",
       "      <td>True</td>\n",
       "    </tr>\n",
       "    <tr>\n",
       "      <th>3</th>\n",
       "      <td>mp-1018902</td>\n",
       "      <td>PrSbPt</td>\n",
       "      <td>-1.111238</td>\n",
       "      <td>0.000000</td>\n",
       "      <td>0.0</td>\n",
       "      <td>True</td>\n",
       "    </tr>\n",
       "    <tr>\n",
       "      <th>4</th>\n",
       "      <td>mp-1020595</td>\n",
       "      <td>Rb8PO3</td>\n",
       "      <td>-0.772860</td>\n",
       "      <td>0.491666</td>\n",
       "      <td>0.0</td>\n",
       "      <td>True</td>\n",
       "    </tr>\n",
       "  </tbody>\n",
       "</table>\n",
       "</div>"
      ],
      "text/plain": [
       "      task_id formula  formation_energy_per_atom  e_above_hull  band_gap  \\\n",
       "0  mp-1007923   CrNi3                  -0.016354      0.000802       0.0   \n",
       "1  mp-1008754   TbHg2                  -0.069428      0.329909       0.0   \n",
       "2  mp-1016886   MgVO3                  -2.241438      0.545977       0.0   \n",
       "3  mp-1018902  PrSbPt                  -1.111238      0.000000       0.0   \n",
       "4  mp-1020595  Rb8PO3                  -0.772860      0.491666       0.0   \n",
       "\n",
       "   has_bandstructure  \n",
       "0              False  \n",
       "1               True  \n",
       "2               True  \n",
       "3               True  \n",
       "4               True  "
      ]
     },
     "execution_count": 3,
     "metadata": {},
     "output_type": "execute_result"
    }
   ],
   "source": [
    "#loading the data\n",
    "orig_data = pd.read_csv('../input/materials-data/material_data.csv',na_filter=False)\n",
    "element_data = pd.read_csv('../input/materials-data/element_data.csv',index_col=0)\n",
    "orig_data.head()"
   ]
  },
  {
   "cell_type": "code",
   "execution_count": 4,
   "metadata": {
    "execution": {
     "iopub.execute_input": "2022-06-08T15:28:04.647516Z",
     "iopub.status.busy": "2022-06-08T15:28:04.633155Z",
     "iopub.status.idle": "2022-06-08T15:28:04.665266Z",
     "shell.execute_reply": "2022-06-08T15:28:04.665838Z",
     "shell.execute_reply.started": "2022-06-08T15:18:19.813740Z"
    },
    "papermill": {
     "duration": 0.081829,
     "end_time": "2022-06-08T15:28:04.666040",
     "exception": false,
     "start_time": "2022-06-08T15:28:04.584211",
     "status": "completed"
    },
    "tags": []
   },
   "outputs": [
    {
     "name": "stdout",
     "output_type": "stream",
     "text": [
      "<class 'pandas.core.frame.DataFrame'>\n",
      "RangeIndex: 124515 entries, 0 to 124514\n",
      "Data columns (total 6 columns):\n",
      " #   Column                     Non-Null Count   Dtype  \n",
      "---  ------                     --------------   -----  \n",
      " 0   task_id                    124515 non-null  object \n",
      " 1   formula                    124515 non-null  object \n",
      " 2   formation_energy_per_atom  124515 non-null  float64\n",
      " 3   e_above_hull               124515 non-null  float64\n",
      " 4   band_gap                   124515 non-null  float64\n",
      " 5   has_bandstructure          124515 non-null  bool   \n",
      "dtypes: bool(1), float64(3), object(2)\n",
      "memory usage: 4.9+ MB\n"
     ]
    }
   ],
   "source": [
    "#materials data information\n",
    "orig_data.info()"
   ]
  },
  {
   "cell_type": "code",
   "execution_count": 5,
   "metadata": {
    "execution": {
     "iopub.execute_input": "2022-06-08T15:28:04.754653Z",
     "iopub.status.busy": "2022-06-08T15:28:04.753954Z",
     "iopub.status.idle": "2022-06-08T15:28:04.790273Z",
     "shell.execute_reply": "2022-06-08T15:28:04.790771Z",
     "shell.execute_reply.started": "2022-06-08T15:18:19.865642Z"
    },
    "papermill": {
     "duration": 0.082818,
     "end_time": "2022-06-08T15:28:04.790967",
     "exception": false,
     "start_time": "2022-06-08T15:28:04.708149",
     "status": "completed"
    },
    "tags": []
   },
   "outputs": [
    {
     "data": {
      "text/html": [
       "<div>\n",
       "<style scoped>\n",
       "    .dataframe tbody tr th:only-of-type {\n",
       "        vertical-align: middle;\n",
       "    }\n",
       "\n",
       "    .dataframe tbody tr th {\n",
       "        vertical-align: top;\n",
       "    }\n",
       "\n",
       "    .dataframe thead th {\n",
       "        text-align: right;\n",
       "    }\n",
       "</style>\n",
       "<table border=\"1\" class=\"dataframe\">\n",
       "  <thead>\n",
       "    <tr style=\"text-align: right;\">\n",
       "      <th></th>\n",
       "      <th>formation_energy_per_atom</th>\n",
       "      <th>e_above_hull</th>\n",
       "      <th>band_gap</th>\n",
       "    </tr>\n",
       "  </thead>\n",
       "  <tbody>\n",
       "    <tr>\n",
       "      <th>count</th>\n",
       "      <td>124515.000000</td>\n",
       "      <td>124515.000000</td>\n",
       "      <td>124515.000000</td>\n",
       "    </tr>\n",
       "    <tr>\n",
       "      <th>mean</th>\n",
       "      <td>-1.410472</td>\n",
       "      <td>0.148873</td>\n",
       "      <td>1.075733</td>\n",
       "    </tr>\n",
       "    <tr>\n",
       "      <th>std</th>\n",
       "      <td>1.211580</td>\n",
       "      <td>0.420030</td>\n",
       "      <td>1.525219</td>\n",
       "    </tr>\n",
       "    <tr>\n",
       "      <th>min</th>\n",
       "      <td>-4.618361</td>\n",
       "      <td>0.000000</td>\n",
       "      <td>0.000000</td>\n",
       "    </tr>\n",
       "    <tr>\n",
       "      <th>25%</th>\n",
       "      <td>-2.408562</td>\n",
       "      <td>0.000000</td>\n",
       "      <td>0.000000</td>\n",
       "    </tr>\n",
       "    <tr>\n",
       "      <th>50%</th>\n",
       "      <td>-1.438384</td>\n",
       "      <td>0.030278</td>\n",
       "      <td>0.110600</td>\n",
       "    </tr>\n",
       "    <tr>\n",
       "      <th>75%</th>\n",
       "      <td>-0.459684</td>\n",
       "      <td>0.101252</td>\n",
       "      <td>1.900000</td>\n",
       "    </tr>\n",
       "    <tr>\n",
       "      <th>max</th>\n",
       "      <td>5.355523</td>\n",
       "      <td>6.369051</td>\n",
       "      <td>17.902300</td>\n",
       "    </tr>\n",
       "  </tbody>\n",
       "</table>\n",
       "</div>"
      ],
      "text/plain": [
       "       formation_energy_per_atom   e_above_hull       band_gap\n",
       "count              124515.000000  124515.000000  124515.000000\n",
       "mean                   -1.410472       0.148873       1.075733\n",
       "std                     1.211580       0.420030       1.525219\n",
       "min                    -4.618361       0.000000       0.000000\n",
       "25%                    -2.408562       0.000000       0.000000\n",
       "50%                    -1.438384       0.030278       0.110600\n",
       "75%                    -0.459684       0.101252       1.900000\n",
       "max                     5.355523       6.369051      17.902300"
      ]
     },
     "execution_count": 5,
     "metadata": {},
     "output_type": "execute_result"
    }
   ],
   "source": [
    "orig_data.describe()"
   ]
  },
  {
   "cell_type": "code",
   "execution_count": 6,
   "metadata": {
    "execution": {
     "iopub.execute_input": "2022-06-08T15:28:04.879568Z",
     "iopub.status.busy": "2022-06-08T15:28:04.878930Z",
     "iopub.status.idle": "2022-06-08T15:28:04.897556Z",
     "shell.execute_reply": "2022-06-08T15:28:04.897960Z",
     "shell.execute_reply.started": "2022-06-08T15:18:19.908479Z"
    },
    "papermill": {
     "duration": 0.064715,
     "end_time": "2022-06-08T15:28:04.898145",
     "exception": false,
     "start_time": "2022-06-08T15:28:04.833430",
     "status": "completed"
    },
    "tags": []
   },
   "outputs": [
    {
     "data": {
      "text/html": [
       "<div>\n",
       "<style scoped>\n",
       "    .dataframe tbody tr th:only-of-type {\n",
       "        vertical-align: middle;\n",
       "    }\n",
       "\n",
       "    .dataframe tbody tr th {\n",
       "        vertical-align: top;\n",
       "    }\n",
       "\n",
       "    .dataframe thead th {\n",
       "        text-align: right;\n",
       "    }\n",
       "</style>\n",
       "<table border=\"1\" class=\"dataframe\">\n",
       "  <thead>\n",
       "    <tr style=\"text-align: right;\">\n",
       "      <th></th>\n",
       "      <th>AtomicRadius</th>\n",
       "      <th>AtomicVolume</th>\n",
       "      <th>AtomicWeight</th>\n",
       "      <th>BulkModulus</th>\n",
       "      <th>BoilingT</th>\n",
       "      <th>Column</th>\n",
       "      <th>CovalentRadius</th>\n",
       "      <th>Density</th>\n",
       "      <th>ElectronAffinity</th>\n",
       "      <th>Electronegativity</th>\n",
       "      <th>FirstIonizationEnergy</th>\n",
       "      <th>HeatCapacityMass</th>\n",
       "      <th>Row</th>\n",
       "      <th>phi</th>\n",
       "      <th>SecondIonizationEnergy</th>\n",
       "      <th>ShearModulus</th>\n",
       "    </tr>\n",
       "    <tr>\n",
       "      <th>Element</th>\n",
       "      <th></th>\n",
       "      <th></th>\n",
       "      <th></th>\n",
       "      <th></th>\n",
       "      <th></th>\n",
       "      <th></th>\n",
       "      <th></th>\n",
       "      <th></th>\n",
       "      <th></th>\n",
       "      <th></th>\n",
       "      <th></th>\n",
       "      <th></th>\n",
       "      <th></th>\n",
       "      <th></th>\n",
       "      <th></th>\n",
       "      <th></th>\n",
       "    </tr>\n",
       "  </thead>\n",
       "  <tbody>\n",
       "    <tr>\n",
       "      <th>H</th>\n",
       "      <td>0.25</td>\n",
       "      <td>18618.051940</td>\n",
       "      <td>1.007940</td>\n",
       "      <td>NaN</td>\n",
       "      <td>20.13</td>\n",
       "      <td>1</td>\n",
       "      <td>31</td>\n",
       "      <td>0.0899</td>\n",
       "      <td>72.8</td>\n",
       "      <td>2.20</td>\n",
       "      <td>13.598443</td>\n",
       "      <td>14.304</td>\n",
       "      <td>1</td>\n",
       "      <td>5.20</td>\n",
       "      <td>NaN</td>\n",
       "      <td>NaN</td>\n",
       "    </tr>\n",
       "    <tr>\n",
       "      <th>He</th>\n",
       "      <td>NaN</td>\n",
       "      <td>37236.035560</td>\n",
       "      <td>4.002602</td>\n",
       "      <td>NaN</td>\n",
       "      <td>4.07</td>\n",
       "      <td>18</td>\n",
       "      <td>28</td>\n",
       "      <td>0.1785</td>\n",
       "      <td>0.0</td>\n",
       "      <td>NaN</td>\n",
       "      <td>24.587387</td>\n",
       "      <td>5.130</td>\n",
       "      <td>1</td>\n",
       "      <td>NaN</td>\n",
       "      <td>54.41776</td>\n",
       "      <td>NaN</td>\n",
       "    </tr>\n",
       "    <tr>\n",
       "      <th>Li</th>\n",
       "      <td>1.45</td>\n",
       "      <td>21.544058</td>\n",
       "      <td>6.941000</td>\n",
       "      <td>11.0</td>\n",
       "      <td>1615.00</td>\n",
       "      <td>1</td>\n",
       "      <td>128</td>\n",
       "      <td>535.0000</td>\n",
       "      <td>59.6</td>\n",
       "      <td>0.98</td>\n",
       "      <td>5.391719</td>\n",
       "      <td>3.582</td>\n",
       "      <td>2</td>\n",
       "      <td>2.85</td>\n",
       "      <td>75.64000</td>\n",
       "      <td>4.2</td>\n",
       "    </tr>\n",
       "    <tr>\n",
       "      <th>Be</th>\n",
       "      <td>1.05</td>\n",
       "      <td>8.098176</td>\n",
       "      <td>9.012182</td>\n",
       "      <td>130.0</td>\n",
       "      <td>2743.00</td>\n",
       "      <td>2</td>\n",
       "      <td>96</td>\n",
       "      <td>1848.0000</td>\n",
       "      <td>0.0</td>\n",
       "      <td>1.57</td>\n",
       "      <td>9.322700</td>\n",
       "      <td>1.825</td>\n",
       "      <td>2</td>\n",
       "      <td>5.05</td>\n",
       "      <td>18.21114</td>\n",
       "      <td>132.0</td>\n",
       "    </tr>\n",
       "    <tr>\n",
       "      <th>B</th>\n",
       "      <td>0.85</td>\n",
       "      <td>7.297767</td>\n",
       "      <td>10.811000</td>\n",
       "      <td>320.0</td>\n",
       "      <td>4273.00</td>\n",
       "      <td>13</td>\n",
       "      <td>84</td>\n",
       "      <td>2460.0000</td>\n",
       "      <td>26.7</td>\n",
       "      <td>2.04</td>\n",
       "      <td>8.298020</td>\n",
       "      <td>1.026</td>\n",
       "      <td>2</td>\n",
       "      <td>5.30</td>\n",
       "      <td>25.15480</td>\n",
       "      <td>NaN</td>\n",
       "    </tr>\n",
       "  </tbody>\n",
       "</table>\n",
       "</div>"
      ],
      "text/plain": [
       "         AtomicRadius  AtomicVolume  AtomicWeight  BulkModulus  BoilingT  \\\n",
       "Element                                                                    \n",
       "H                0.25  18618.051940      1.007940          NaN     20.13   \n",
       "He                NaN  37236.035560      4.002602          NaN      4.07   \n",
       "Li               1.45     21.544058      6.941000         11.0   1615.00   \n",
       "Be               1.05      8.098176      9.012182        130.0   2743.00   \n",
       "B                0.85      7.297767     10.811000        320.0   4273.00   \n",
       "\n",
       "         Column  CovalentRadius    Density  ElectronAffinity  \\\n",
       "Element                                                        \n",
       "H             1              31     0.0899              72.8   \n",
       "He           18              28     0.1785               0.0   \n",
       "Li            1             128   535.0000              59.6   \n",
       "Be            2              96  1848.0000               0.0   \n",
       "B            13              84  2460.0000              26.7   \n",
       "\n",
       "         Electronegativity  FirstIonizationEnergy  HeatCapacityMass  Row  \\\n",
       "Element                                                                    \n",
       "H                     2.20              13.598443            14.304    1   \n",
       "He                     NaN              24.587387             5.130    1   \n",
       "Li                    0.98               5.391719             3.582    2   \n",
       "Be                    1.57               9.322700             1.825    2   \n",
       "B                     2.04               8.298020             1.026    2   \n",
       "\n",
       "          phi  SecondIonizationEnergy  ShearModulus  \n",
       "Element                                              \n",
       "H        5.20                     NaN           NaN  \n",
       "He        NaN                54.41776           NaN  \n",
       "Li       2.85                75.64000           4.2  \n",
       "Be       5.05                18.21114         132.0  \n",
       "B        5.30                25.15480           NaN  "
      ]
     },
     "execution_count": 6,
     "metadata": {},
     "output_type": "execute_result"
    }
   ],
   "source": [
    "element_data.head()"
   ]
  },
  {
   "cell_type": "code",
   "execution_count": 7,
   "metadata": {
    "execution": {
     "iopub.execute_input": "2022-06-08T15:28:04.988911Z",
     "iopub.status.busy": "2022-06-08T15:28:04.988191Z",
     "iopub.status.idle": "2022-06-08T15:28:05.000817Z",
     "shell.execute_reply": "2022-06-08T15:28:05.001607Z",
     "shell.execute_reply.started": "2022-06-08T15:18:19.932632Z"
    },
    "papermill": {
     "duration": 0.060019,
     "end_time": "2022-06-08T15:28:05.001876",
     "exception": false,
     "start_time": "2022-06-08T15:28:04.941857",
     "status": "completed"
    },
    "tags": []
   },
   "outputs": [
    {
     "name": "stdout",
     "output_type": "stream",
     "text": [
      "<class 'pandas.core.frame.DataFrame'>\n",
      "Index: 95 entries, H to Am\n",
      "Data columns (total 16 columns):\n",
      " #   Column                  Non-Null Count  Dtype  \n",
      "---  ------                  --------------  -----  \n",
      " 0   AtomicRadius            88 non-null     float64\n",
      " 1   AtomicVolume            93 non-null     float64\n",
      " 2   AtomicWeight            95 non-null     float64\n",
      " 3   BulkModulus             69 non-null     float64\n",
      " 4   BoilingT                93 non-null     float64\n",
      " 5   Column                  95 non-null     int64  \n",
      " 6   CovalentRadius          95 non-null     int64  \n",
      " 7   Density                 93 non-null     float64\n",
      " 8   ElectronAffinity        86 non-null     float64\n",
      " 9   Electronegativity       91 non-null     float64\n",
      " 10  FirstIonizationEnergy   94 non-null     float64\n",
      " 11  HeatCapacityMass        85 non-null     float64\n",
      " 12  Row                     95 non-null     int64  \n",
      " 13  phi                     73 non-null     float64\n",
      " 14  SecondIonizationEnergy  83 non-null     float64\n",
      " 15  ShearModulus            61 non-null     float64\n",
      "dtypes: float64(13), int64(3)\n",
      "memory usage: 12.6+ KB\n"
     ]
    }
   ],
   "source": [
    "#element data information\n",
    "element_data.info()"
   ]
  },
  {
   "cell_type": "code",
   "execution_count": 8,
   "metadata": {
    "execution": {
     "iopub.execute_input": "2022-06-08T15:28:05.094335Z",
     "iopub.status.busy": "2022-06-08T15:28:05.093731Z",
     "iopub.status.idle": "2022-06-08T15:28:05.101046Z",
     "shell.execute_reply": "2022-06-08T15:28:05.101630Z",
     "shell.execute_reply.started": "2022-06-08T15:18:19.953943Z"
    },
    "papermill": {
     "duration": 0.054717,
     "end_time": "2022-06-08T15:28:05.101849",
     "exception": false,
     "start_time": "2022-06-08T15:28:05.047132",
     "status": "completed"
    },
    "tags": []
   },
   "outputs": [],
   "source": [
    "#fillning nan values of elements with mean\n",
    "element_data.fillna(element_data.mean(),inplace=True)"
   ]
  },
  {
   "cell_type": "code",
   "execution_count": 9,
   "metadata": {
    "execution": {
     "iopub.execute_input": "2022-06-08T15:28:05.195811Z",
     "iopub.status.busy": "2022-06-08T15:28:05.195047Z",
     "iopub.status.idle": "2022-06-08T15:28:09.636362Z",
     "shell.execute_reply": "2022-06-08T15:28:09.635401Z",
     "shell.execute_reply.started": "2022-06-08T15:18:19.966745Z"
    },
    "papermill": {
     "duration": 4.489344,
     "end_time": "2022-06-08T15:28:09.636595",
     "exception": false,
     "start_time": "2022-06-08T15:28:05.147251",
     "status": "completed"
    },
    "tags": []
   },
   "outputs": [
    {
     "name": "stdout",
     "output_type": "stream",
     "text": [
      "9\n"
     ]
    }
   ],
   "source": [
    "#max number of elements in a single structure\n",
    "els = orig_data['formula'].apply(lambda x: len(Composition(x).elements))\n",
    "max_el = max(els)\n",
    "print(max_el)"
   ]
  },
  {
   "cell_type": "code",
   "execution_count": 10,
   "metadata": {
    "execution": {
     "iopub.execute_input": "2022-06-08T15:28:09.735497Z",
     "iopub.status.busy": "2022-06-08T15:28:09.731658Z",
     "iopub.status.idle": "2022-06-08T15:28:10.029851Z",
     "shell.execute_reply": "2022-06-08T15:28:10.030394Z",
     "shell.execute_reply.started": "2022-06-08T15:18:26.678809Z"
    },
    "papermill": {
     "duration": 0.345988,
     "end_time": "2022-06-08T15:28:10.030615",
     "exception": false,
     "start_time": "2022-06-08T15:28:09.684627",
     "status": "completed"
    },
    "tags": []
   },
   "outputs": [
    {
     "name": "stderr",
     "output_type": "stream",
     "text": [
      "/opt/conda/lib/python3.7/site-packages/seaborn/_decorators.py:43: FutureWarning: Pass the following variable as a keyword arg: x. From version 0.12, the only valid positional argument will be `data`, and passing other arguments without an explicit keyword will result in an error or misinterpretation.\n",
      "  FutureWarning\n"
     ]
    },
    {
     "data": {
      "text/plain": [
       "Text(0.5, 1.0, 'No. of Elements in Single Structure')"
      ]
     },
     "execution_count": 10,
     "metadata": {},
     "output_type": "execute_result"
    },
    {
     "data": {
      "image/png": "[encoded data removed]",
      "text/plain": [
       "<Figure size 720x432 with 1 Axes>"
      ]
     },
     "metadata": {
      "needs_background": "light"
     },
     "output_type": "display_data"
    }
   ],
   "source": [
    "#countplot of no. of elements in a single strucutre\n",
    "plt.figure(figsize=(10,6))\n",
    "sns.countplot(els,palette='viridis')\n",
    "plt.title('No. of Elements in Single Structure')"
   ]
  },
  {
   "cell_type": "code",
   "execution_count": 11,
   "metadata": {
    "execution": {
     "iopub.execute_input": "2022-06-08T15:28:10.225803Z",
     "iopub.status.busy": "2022-06-08T15:28:10.225068Z",
     "iopub.status.idle": "2022-06-08T15:28:15.095389Z",
     "shell.execute_reply": "2022-06-08T15:28:15.095896Z",
     "shell.execute_reply.started": "2022-06-08T15:18:26.991967Z"
    },
    "papermill": {
     "duration": 4.922762,
     "end_time": "2022-06-08T15:28:15.096123",
     "exception": false,
     "start_time": "2022-06-08T15:28:10.173361",
     "status": "completed"
    },
    "tags": []
   },
   "outputs": [],
   "source": [
    "#breaking down the lements in formula\n",
    "def composition(df,col_name):    \n",
    "    df['Elements_in_formula'] = df[col_name].apply(lambda x: Composition(x).elements)\n",
    "    return df\n",
    "\n",
    "orig_data = composition(orig_data,'formula')"
   ]
  },
  {
   "cell_type": "code",
   "execution_count": 12,
   "metadata": {
    "execution": {
     "iopub.execute_input": "2022-06-08T15:28:15.236546Z",
     "iopub.status.busy": "2022-06-08T15:28:15.215692Z",
     "iopub.status.idle": "2022-06-08T15:28:15.896985Z",
     "shell.execute_reply": "2022-06-08T15:28:15.896337Z",
     "shell.execute_reply.started": "2022-06-08T15:18:33.786281Z"
    },
    "papermill": {
     "duration": 0.756089,
     "end_time": "2022-06-08T15:28:15.897160",
     "exception": false,
     "start_time": "2022-06-08T15:28:15.141071",
     "status": "completed"
    },
    "tags": []
   },
   "outputs": [
    {
     "data": {
      "text/plain": [
       "173"
      ]
     },
     "execution_count": 12,
     "metadata": {},
     "output_type": "execute_result"
    }
   ],
   "source": [
    "#num of compounds having noble elements\n",
    "def no_noble_gas_else(df,col_name):\n",
    "    cnt=0\n",
    "    for elements in df[col_name]:\n",
    "        for element in elements:\n",
    "            if Element(str(element)).group==18:\n",
    "                cnt+=1\n",
    "    return cnt\n",
    "no_noble_gas_else(orig_data,'Elements_in_formula')"
   ]
  },
  {
   "cell_type": "code",
   "execution_count": 13,
   "metadata": {
    "execution": {
     "iopub.execute_input": "2022-06-08T15:28:16.180720Z",
     "iopub.status.busy": "2022-06-08T15:28:16.180036Z",
     "iopub.status.idle": "2022-06-08T15:28:17.419834Z",
     "shell.execute_reply": "2022-06-08T15:28:17.420686Z",
     "shell.execute_reply.started": "2022-06-08T15:18:34.973052Z"
    },
    "papermill": {
     "duration": 1.294507,
     "end_time": "2022-06-08T15:28:17.421009",
     "exception": false,
     "start_time": "2022-06-08T15:28:16.126502",
     "status": "completed"
    },
    "tags": []
   },
   "outputs": [
    {
     "name": "stdout",
     "output_type": "stream",
     "text": [
      "The remaining number of materials is 124342\n"
     ]
    }
   ],
   "source": [
    "#to find noble and non noble gaseous materials\n",
    "elements_temp=[Element.from_Z(i) for i in range(1,95)]\n",
    "noble_gases=[i for i in elements_temp if i.is_noble_gas]\n",
    "def is_contain_noble_gas(elements):\n",
    "    return any([i in noble_gases for i in elements])\n",
    "not_contain_noble_gas=[not is_contain_noble_gas(i) for i in orig_data['Elements_in_formula']]\n",
    "\n",
    "#removing the materials with noble gases\n",
    "data=orig_data.copy()\n",
    "data=data[not_contain_noble_gas]\n",
    "print(\"The remaining number of materials is %d\"%data.shape[0])"
   ]
  },
  {
   "cell_type": "code",
   "execution_count": 14,
   "metadata": {
    "execution": {
     "iopub.execute_input": "2022-06-08T15:28:17.517342Z",
     "iopub.status.busy": "2022-06-08T15:28:17.516724Z",
     "iopub.status.idle": "2022-06-08T15:28:46.524721Z",
     "shell.execute_reply": "2022-06-08T15:28:46.525244Z",
     "shell.execute_reply.started": "2022-06-08T15:18:37.150543Z"
    },
    "papermill": {
     "duration": 29.057036,
     "end_time": "2022-06-08T15:28:46.525447",
     "exception": false,
     "start_time": "2022-06-08T15:28:17.468411",
     "status": "completed"
    },
    "tags": []
   },
   "outputs": [],
   "source": [
    "#adding new compositon column to the data\n",
    "data['composition']=[Composition(i).to_data_dict['unit_cell_composition'] for i in data['formula']]"
   ]
  },
  {
   "cell_type": "code",
   "execution_count": 15,
   "metadata": {
    "execution": {
     "iopub.execute_input": "2022-06-08T15:28:46.627220Z",
     "iopub.status.busy": "2022-06-08T15:28:46.626574Z",
     "iopub.status.idle": "2022-06-08T15:28:46.631438Z",
     "shell.execute_reply": "2022-06-08T15:28:46.631933Z",
     "shell.execute_reply.started": "2022-06-08T15:19:15.434072Z"
    },
    "papermill": {
     "duration": 0.056871,
     "end_time": "2022-06-08T15:28:46.632123",
     "exception": false,
     "start_time": "2022-06-08T15:28:46.575252",
     "status": "completed"
    },
    "tags": []
   },
   "outputs": [],
   "source": [
    "#to get unit cell composition\n",
    "def composition_to_dict(c):\n",
    "    if isinstance(c,dict):\n",
    "        unit_cell_composition = c\n",
    "    else:\n",
    "        if isinstance(c,str):\n",
    "            c = Composition(c)\n",
    "        unit_cell_composition = c.to_data_dict['unit_cell_composition']\n",
    "    return unit_cell_composition"
   ]
  },
  {
   "cell_type": "code",
   "execution_count": 16,
   "metadata": {
    "execution": {
     "iopub.execute_input": "2022-06-08T15:28:46.730230Z",
     "iopub.status.busy": "2022-06-08T15:28:46.729528Z",
     "iopub.status.idle": "2022-06-08T15:28:46.731222Z",
     "shell.execute_reply": "2022-06-08T15:28:46.731735Z",
     "shell.execute_reply.started": "2022-06-08T15:19:15.441848Z"
    },
    "papermill": {
     "duration": 0.053834,
     "end_time": "2022-06-08T15:28:46.731927",
     "exception": false,
     "start_time": "2022-06-08T15:28:46.678093",
     "status": "completed"
    },
    "tags": []
   },
   "outputs": [],
   "source": [
    "#to get average properties\n",
    "def average_properties(c,prop):\n",
    "    unit_cell_composition = composition_to_dict(c)\n",
    "    res = 0\n",
    "    total = 0\n",
    "    for j,k in unit_cell_composition.items():\n",
    "        res+=element_data.loc[j,prop]*k\n",
    "        total+=k\n",
    "    return res/total"
   ]
  },
  {
   "cell_type": "code",
   "execution_count": 17,
   "metadata": {
    "execution": {
     "iopub.execute_input": "2022-06-08T15:28:46.826443Z",
     "iopub.status.busy": "2022-06-08T15:28:46.825813Z",
     "iopub.status.idle": "2022-06-08T15:29:52.035288Z",
     "shell.execute_reply": "2022-06-08T15:29:52.035825Z",
     "shell.execute_reply.started": "2022-06-08T15:19:15.457240Z"
    },
    "papermill": {
     "duration": 65.258669,
     "end_time": "2022-06-08T15:29:52.036026",
     "exception": false,
     "start_time": "2022-06-08T15:28:46.777357",
     "status": "completed"
    },
    "tags": []
   },
   "outputs": [
    {
     "data": {
      "text/plain": [
       "(124342, 16)"
      ]
     },
     "execution_count": 17,
     "metadata": {},
     "output_type": "execute_result"
    }
   ],
   "source": [
    "#calculating average propeties\n",
    "properties = element_data.columns.tolist()\n",
    "average_props = []\n",
    "for prop in properties:\n",
    "    average_props.append([average_properties(i,prop) for i in data['composition']])\n",
    "    \n",
    "average_props = np.array(average_props).T\n",
    "average_props.shape"
   ]
  },
  {
   "cell_type": "code",
   "execution_count": 18,
   "metadata": {
    "execution": {
     "iopub.execute_input": "2022-06-08T15:29:52.131661Z",
     "iopub.status.busy": "2022-06-08T15:29:52.130959Z",
     "iopub.status.idle": "2022-06-08T15:29:52.135045Z",
     "shell.execute_reply": "2022-06-08T15:29:52.135524Z",
     "shell.execute_reply.started": "2022-06-08T15:20:58.197785Z"
    },
    "papermill": {
     "duration": 0.053324,
     "end_time": "2022-06-08T15:29:52.135710",
     "exception": false,
     "start_time": "2022-06-08T15:29:52.082386",
     "status": "completed"
    },
    "tags": []
   },
   "outputs": [],
   "source": [
    "#to get max and min properties\n",
    "def get_maxmin_properties(c,prop,mode='max'):\n",
    "    if mode=='max':\n",
    "        func = np.max\n",
    "    elif mode == 'min':\n",
    "        func = np.min\n",
    "    unit_cell_composition = composition_to_dict(c)\n",
    "    res = func([element_data.loc[i,prop] for i in unit_cell_composition])\n",
    "    return res"
   ]
  },
  {
   "cell_type": "code",
   "execution_count": 19,
   "metadata": {
    "execution": {
     "iopub.execute_input": "2022-06-08T15:29:52.230579Z",
     "iopub.status.busy": "2022-06-08T15:29:52.229874Z",
     "iopub.status.idle": "2022-06-08T15:32:26.434094Z",
     "shell.execute_reply": "2022-06-08T15:32:26.434620Z",
     "shell.execute_reply.started": "2022-06-08T15:20:58.205732Z"
    },
    "papermill": {
     "duration": 154.253509,
     "end_time": "2022-06-08T15:32:26.434834",
     "exception": false,
     "start_time": "2022-06-08T15:29:52.181325",
     "status": "completed"
    },
    "tags": []
   },
   "outputs": [
    {
     "data": {
      "text/plain": [
       "((124342, 16), (124342, 16))"
      ]
     },
     "execution_count": 19,
     "metadata": {},
     "output_type": "execute_result"
    }
   ],
   "source": [
    "#calculating max and min properties\n",
    "max_properties=[]\n",
    "min_properties=[]\n",
    "for prop in properties:\n",
    "    max_properties.append([get_maxmin_properties(i,prop,mode='max')for i in data['composition']])\n",
    "    min_properties.append([get_maxmin_properties(i,prop,mode='min')for i in data['composition']])\n",
    "\n",
    "max_properties=np.array(max_properties).T\n",
    "min_properties=np.array(min_properties).T\n",
    "max_properties.shape,min_properties.shape"
   ]
  },
  {
   "cell_type": "code",
   "execution_count": 20,
   "metadata": {
    "execution": {
     "iopub.execute_input": "2022-06-08T15:32:26.532377Z",
     "iopub.status.busy": "2022-06-08T15:32:26.531643Z",
     "iopub.status.idle": "2022-06-08T15:32:26.565118Z",
     "shell.execute_reply": "2022-06-08T15:32:26.565679Z",
     "shell.execute_reply.started": "2022-06-08T15:24:50.973193Z"
    },
    "papermill": {
     "duration": 0.084458,
     "end_time": "2022-06-08T15:32:26.565885",
     "exception": false,
     "start_time": "2022-06-08T15:32:26.481427",
     "status": "completed"
    },
    "tags": []
   },
   "outputs": [
    {
     "data": {
      "text/plain": [
       "(124342, 48)"
      ]
     },
     "execution_count": 20,
     "metadata": {},
     "output_type": "execute_result"
    }
   ],
   "source": [
    "#features\n",
    "total_data=np.concatenate([average_props,max_properties, min_properties], axis=1)\n",
    "total_data.shape"
   ]
  },
  {
   "cell_type": "code",
   "execution_count": 21,
   "metadata": {
    "execution": {
     "iopub.execute_input": "2022-06-08T15:32:26.663306Z",
     "iopub.status.busy": "2022-06-08T15:32:26.662632Z",
     "iopub.status.idle": "2022-06-08T15:32:26.708119Z",
     "shell.execute_reply": "2022-06-08T15:32:26.708561Z",
     "shell.execute_reply.started": "2022-06-08T15:24:50.999265Z"
    },
    "papermill": {
     "duration": 0.095681,
     "end_time": "2022-06-08T15:32:26.708761",
     "exception": false,
     "start_time": "2022-06-08T15:32:26.613080",
     "status": "completed"
    },
    "tags": []
   },
   "outputs": [
    {
     "data": {
      "text/plain": [
       "(124342, 3)"
      ]
     },
     "execution_count": 21,
     "metadata": {},
     "output_type": "execute_result"
    }
   ],
   "source": [
    "#targets\n",
    "targets=data[['band_gap','formation_energy_per_atom','e_above_hull']]\n",
    "targets.shape"
   ]
  },
  {
   "cell_type": "code",
   "execution_count": 22,
   "metadata": {
    "execution": {
     "iopub.execute_input": "2022-06-08T15:32:26.805187Z",
     "iopub.status.busy": "2022-06-08T15:32:26.804250Z",
     "iopub.status.idle": "2022-06-08T15:32:26.934153Z",
     "shell.execute_reply": "2022-06-08T15:32:26.933439Z",
     "shell.execute_reply.started": "2022-06-08T15:24:51.035371Z"
    },
    "papermill": {
     "duration": 0.179615,
     "end_time": "2022-06-08T15:32:26.934319",
     "exception": false,
     "start_time": "2022-06-08T15:32:26.754704",
     "status": "completed"
    },
    "tags": []
   },
   "outputs": [],
   "source": [
    "#splitting the data\n",
    "X_train, X_test, y_train, y_test = train_test_split(total_data,targets,test_size=0.1,random_state=0)"
   ]
  },
  {
   "cell_type": "code",
   "execution_count": 23,
   "metadata": {
    "execution": {
     "iopub.execute_input": "2022-06-08T15:32:27.034359Z",
     "iopub.status.busy": "2022-06-08T15:32:27.033249Z",
     "iopub.status.idle": "2022-06-08T15:32:27.158672Z",
     "shell.execute_reply": "2022-06-08T15:32:27.158064Z",
     "shell.execute_reply.started": "2022-06-08T15:24:51.138320Z"
    },
    "papermill": {
     "duration": 0.177678,
     "end_time": "2022-06-08T15:32:27.158831",
     "exception": false,
     "start_time": "2022-06-08T15:32:26.981153",
     "status": "completed"
    },
    "tags": []
   },
   "outputs": [],
   "source": [
    "#normalising the data\n",
    "X_train_mean = np.mean(X_train,axis=0)\n",
    "X_train_std = np.std(X_train,axis=0)\n",
    "\n",
    "X_train_norm = (X_train - X_train_mean)/X_train_std\n",
    "X_test_norm = (X_test - X_train_mean)/X_train_std"
   ]
  },
  {
   "cell_type": "markdown",
   "metadata": {
    "papermill": {
     "duration": 0.046777,
     "end_time": "2022-06-08T15:32:27.252085",
     "exception": false,
     "start_time": "2022-06-08T15:32:27.205308",
     "status": "completed"
    },
    "tags": []
   },
   "source": [
    "### Predicting Formation Energy with Different Models"
   ]
  },
  {
   "cell_type": "code",
   "execution_count": 24,
   "metadata": {
    "execution": {
     "iopub.execute_input": "2022-06-08T15:32:27.356582Z",
     "iopub.status.busy": "2022-06-08T15:32:27.355062Z",
     "iopub.status.idle": "2022-06-08T15:32:27.955820Z",
     "shell.execute_reply": "2022-06-08T15:32:27.955240Z",
     "shell.execute_reply.started": "2022-06-08T15:24:51.236502Z"
    },
    "papermill": {
     "duration": 0.657608,
     "end_time": "2022-06-08T15:32:27.955991",
     "exception": false,
     "start_time": "2022-06-08T15:32:27.298383",
     "status": "completed"
    },
    "tags": []
   },
   "outputs": [
    {
     "data": {
      "text/plain": [
       "Text(2, 2, 'MAE =0.395eV\\nRMSE =0.566eV')"
      ]
     },
     "execution_count": 24,
     "metadata": {},
     "output_type": "execute_result"
    },
    {
     "data": {
      "image/png": "[encoded data removed]",
      "text/plain": [
       "<Figure size 720x432 with 1 Axes>"
      ]
     },
     "metadata": {
      "needs_background": "light"
     },
     "output_type": "display_data"
    }
   ],
   "source": [
    "#linear regression\n",
    "lr = LinearRegression()\n",
    "lr.fit(X_train_norm,y_train[['formation_energy_per_atom']])\n",
    "\n",
    "#predictions on test data\n",
    "lr_preds = lr.predict(X_test_norm)\n",
    "\n",
    "#mae and rmse\n",
    "mae_lr = mean_absolute_error(lr_preds,y_test[['formation_energy_per_atom']].values)\n",
    "rmse_lr = np.sqrt(mean_squared_error(lr_preds,y_test[['formation_energy_per_atom']].values))\n",
    "\n",
    "#plotting the predictions\n",
    "plt.figure(figsize=(10,6))\n",
    "plt.plot(y_test[['formation_energy_per_atom']].values,lr_preds,'rx')\n",
    "plt.xlabel(\"Formation energy (eV)\")\n",
    "plt.ylabel(\"Predicted Formation Energy (eV)\")\n",
    "plt.annotate(f\"MAE ={mae_lr:.3f}eV\\nRMSE ={rmse_lr:.3f}eV\", (2,2), fontsize=18)"
   ]
  },
  {
   "cell_type": "code",
   "execution_count": 25,
   "metadata": {
    "execution": {
     "iopub.execute_input": "2022-06-08T15:32:28.059427Z",
     "iopub.status.busy": "2022-06-08T15:32:28.058351Z",
     "iopub.status.idle": "2022-06-08T15:32:28.429925Z",
     "shell.execute_reply": "2022-06-08T15:32:28.430431Z",
     "shell.execute_reply.started": "2022-06-08T15:24:51.766188Z"
    },
    "papermill": {
     "duration": 0.425357,
     "end_time": "2022-06-08T15:32:28.430655",
     "exception": false,
     "start_time": "2022-06-08T15:32:28.005298",
     "status": "completed"
    },
    "tags": []
   },
   "outputs": [
    {
     "data": {
      "text/plain": [
       "Text(2, 2, 'MAE =0.395eV\\nRMSE =0.566eV')"
      ]
     },
     "execution_count": 25,
     "metadata": {},
     "output_type": "execute_result"
    },
    {
     "data": {
      "image/png": "[encoded data removed]",
      "text/plain": [
       "<Figure size 720x432 with 1 Axes>"
      ]
     },
     "metadata": {
      "needs_background": "light"
     },
     "output_type": "display_data"
    }
   ],
   "source": [
    "#ridege\n",
    "ridge = Ridge(alpha=0.1)\n",
    "ridge.fit(X_train_norm,y_train[['formation_energy_per_atom']])\n",
    "\n",
    "#predictions on test data\n",
    "ridge_preds = ridge.predict(X_test_norm)\n",
    "\n",
    "#mae and rmse\n",
    "mae_ridge = mean_absolute_error(ridge_preds,y_test[['formation_energy_per_atom']].values)\n",
    "rmse_ridge = np.sqrt(mean_squared_error(ridge_preds,y_test[['formation_energy_per_atom']].values))\n",
    "\n",
    "#plotting the predictions\n",
    "plt.figure(figsize=(10,6))\n",
    "plt.plot(y_test[['formation_energy_per_atom']].values,ridge_preds,'gx')\n",
    "plt.xlabel(\"Formation energy (eV)\")\n",
    "plt.ylabel(\"Predicted Formation Energy (eV)\")\n",
    "plt.annotate(f\"MAE ={mae_ridge:.3f}eV\\nRMSE ={rmse_ridge:.3f}eV\", (2,2), fontsize=18)"
   ]
  },
  {
   "cell_type": "code",
   "execution_count": 26,
   "metadata": {
    "execution": {
     "iopub.execute_input": "2022-06-08T15:32:28.539058Z",
     "iopub.status.busy": "2022-06-08T15:32:28.538306Z",
     "iopub.status.idle": "2022-06-08T15:32:29.117683Z",
     "shell.execute_reply": "2022-06-08T15:32:29.117112Z",
     "shell.execute_reply.started": "2022-06-08T15:24:52.120625Z"
    },
    "papermill": {
     "duration": 0.634876,
     "end_time": "2022-06-08T15:32:29.117853",
     "exception": false,
     "start_time": "2022-06-08T15:32:28.482977",
     "status": "completed"
    },
    "tags": []
   },
   "outputs": [
    {
     "data": {
      "text/plain": [
       "Text(2, 2, 'MAE =0.463eV\\nRMSE =0.658eV')"
      ]
     },
     "execution_count": 26,
     "metadata": {},
     "output_type": "execute_result"
    },
    {
     "data": {
      "image/png": "[encoded data removed]",
      "text/plain": [
       "<Figure size 720x432 with 1 Axes>"
      ]
     },
     "metadata": {
      "needs_background": "light"
     },
     "output_type": "display_data"
    }
   ],
   "source": [
    "#lasso\n",
    "lasso = Lasso(alpha=0.1)\n",
    "lasso.fit(X_train_norm,y_train[['formation_energy_per_atom']])\n",
    "\n",
    "#predictions on test data\n",
    "lasso_preds = lasso.predict(X_test_norm)\n",
    "\n",
    "#mae and rmse\n",
    "mae_lasso = mean_absolute_error(lasso_preds,y_test[['formation_energy_per_atom']].values)\n",
    "rmse_lasso = np.sqrt(mean_squared_error(lasso_preds,y_test[['formation_energy_per_atom']].values))\n",
    "\n",
    "#plotting the predictions\n",
    "plt.figure(figsize=(10,6))\n",
    "plt.plot(y_test[['formation_energy_per_atom']].values,lasso_preds,'bx')\n",
    "plt.xlabel(\"Formation energy (eV)\")\n",
    "plt.ylabel(\"Predicted Formation Energy (eV)\")\n",
    "plt.annotate(f\"MAE ={mae_lasso:.3f}eV\\nRMSE ={rmse_lasso:.3f}eV\", (2,2), fontsize=18)"
   ]
  },
  {
   "cell_type": "markdown",
   "metadata": {
    "papermill": {
     "duration": 0.052011,
     "end_time": "2022-06-08T15:32:29.222623",
     "exception": false,
     "start_time": "2022-06-08T15:32:29.170612",
     "status": "completed"
    },
    "tags": []
   },
   "source": [
    "### Predicting whether the material is metallic or non metallic"
   ]
  },
  {
   "cell_type": "code",
   "execution_count": 27,
   "metadata": {
    "execution": {
     "iopub.execute_input": "2022-06-08T15:32:29.332042Z",
     "iopub.status.busy": "2022-06-08T15:32:29.331012Z",
     "iopub.status.idle": "2022-06-08T15:32:29.342557Z",
     "shell.execute_reply": "2022-06-08T15:32:29.343109Z",
     "shell.execute_reply.started": "2022-06-08T15:24:52.635148Z"
    },
    "papermill": {
     "duration": 0.068153,
     "end_time": "2022-06-08T15:32:29.343303",
     "exception": false,
     "start_time": "2022-06-08T15:32:29.275150",
     "status": "completed"
    },
    "tags": []
   },
   "outputs": [],
   "source": [
    "#let's assume if bandgap is less than 0.001 it's metallic\n",
    "from sklearn.preprocessing import LabelEncoder\n",
    "le = LabelEncoder()\n",
    "\n",
    "train_bg_label = y_train['band_gap']< 0.001\n",
    "train_bg_label = le.fit_transform(train_bg_label)\n",
    "\n",
    "test_bg_label = y_test['band_gap']< 0.001\n",
    "test_bg_label = le.fit_transform(test_bg_label)"
   ]
  },
  {
   "cell_type": "code",
   "execution_count": 28,
   "metadata": {
    "execution": {
     "iopub.execute_input": "2022-06-08T15:32:29.455189Z",
     "iopub.status.busy": "2022-06-08T15:32:29.454040Z",
     "iopub.status.idle": "2022-06-08T15:32:34.231770Z",
     "shell.execute_reply": "2022-06-08T15:32:34.233059Z",
     "shell.execute_reply.started": "2022-06-08T15:24:52.650199Z"
    },
    "papermill": {
     "duration": 4.837808,
     "end_time": "2022-06-08T15:32:34.233322",
     "exception": false,
     "start_time": "2022-06-08T15:32:29.395514",
     "status": "completed"
    },
    "tags": []
   },
   "outputs": [
    {
     "name": "stdout",
     "output_type": "stream",
     "text": [
      "Accuracy Score: 79.61399276236429\n",
      "Confusion Matrix:\n",
      " [[6099 1960]\n",
      " [ 575 3801]]\n"
     ]
    }
   ],
   "source": [
    "#logistic regresstion\n",
    "log = LogisticRegression(max_iter=1000)\n",
    "log.fit(X_train_norm,train_bg_label)\n",
    "\n",
    "#predictions on test data\n",
    "log_preds = log.predict(X_test_norm)\n",
    "\n",
    "#accuracy score\n",
    "acc = accuracy_score(log_preds,test_bg_label)\n",
    "\n",
    "#confusion matrix\n",
    "cm = confusion_matrix(log_preds,test_bg_label)\n",
    "\n",
    "print('Accuracy Score:',acc*100)\n",
    "print('Confusion Matrix:\\n',cm)"
   ]
  },
  {
   "cell_type": "code",
   "execution_count": null,
   "metadata": {
    "papermill": {
     "duration": 0.054411,
     "end_time": "2022-06-08T15:32:34.383755",
     "exception": false,
     "start_time": "2022-06-08T15:32:34.329344",
     "status": "completed"
    },
    "tags": []
   },
   "outputs": [],
   "source": []
  }
 ],
 "metadata": {
  "kernelspec": {
   "display_name": "Python 3",
   "language": "python",
   "name": "python3"
  },
  "language_info": {
   "codemirror_mode": {
    "name": "ipython",
    "version": 3
   },
   "file_extension": ".py",
   "mimetype": "text/x-python",
   "name": "python",
   "nbconvert_exporter": "python",
   "pygments_lexer": "ipython3",
   "version": "3.7.6"
  },
  "papermill": {
   "default_parameters": {},
   "duration": 362.203166,
   "end_time": "2022-06-08T15:32:35.657359",
   "environment_variables": {},
   "exception": null,
   "input_path": "__notebook__.ipynb",
   "output_path": "__notebook__.ipynb",
   "parameters": {},
   "start_time": "2022-06-08T15:26:33.454193",
   "version": "2.3.3"
  }
 },
 "nbformat": 4,
 "nbformat_minor": 5
}
